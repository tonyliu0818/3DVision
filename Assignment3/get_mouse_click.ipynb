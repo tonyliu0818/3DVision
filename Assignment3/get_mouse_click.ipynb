{
 "cells": [
  {
   "cell_type": "code",
   "execution_count": 11,
   "metadata": {},
   "outputs": [
    {
     "name": "stdout",
     "output_type": "stream",
     "text": [
      "(450, 600, 3)\n",
      "343   6\n",
      "598   4\n",
      "349   445\n",
      "596   443\n"
     ]
    }
   ],
   "source": [
    "import cv2\n",
    "  \n",
    "color_red = (0,0,255)\n",
    "\n",
    "def click_event(event, x, y, flags, params):\n",
    "    if event == cv2.EVENT_LBUTTONDOWN:\n",
    "        print(x, ' ', y)\n",
    "        cv2.circle(img, (x,y), 1, color_red, 2)\n",
    "        cv2.imshow('image', img)\n",
    " \n",
    "if __name__==\"__main__\":\n",
    "    img = cv2.imread('library2.jpg')\n",
    "    img_copy = img.copy()\n",
    "    print(img.shape)\n",
    "    wid, ht, _ = img.shape\n",
    "    is_running = True\n",
    "    while is_running:\n",
    "      cv2.imshow('image', img)\n",
    "      cv2.setMouseCallback('image', click_event)\n",
    "      keyPressed = cv2.waitKey(0)\n",
    "      if keyPressed == ord('q'):\n",
    "        is_running = False\n",
    "      if keyPressed == ord('c'):\n",
    "        print('clear image')\n",
    "        img = img_copy.copy()\n",
    "      cv2.destroyAllWindows()\n"
   ]
  },
  {
   "cell_type": "code",
   "execution_count": null,
   "metadata": {},
   "outputs": [],
   "source": []
  }
 ],
 "metadata": {
  "kernelspec": {
   "display_name": "Python 3 (ipykernel)",
   "language": "python",
   "name": "python3"
  },
  "language_info": {
   "codemirror_mode": {
    "name": "ipython",
    "version": 3
   },
   "file_extension": ".py",
   "mimetype": "text/x-python",
   "name": "python",
   "nbconvert_exporter": "python",
   "pygments_lexer": "ipython3",
   "version": "3.9.15"
  }
 },
 "nbformat": 4,
 "nbformat_minor": 2
}
